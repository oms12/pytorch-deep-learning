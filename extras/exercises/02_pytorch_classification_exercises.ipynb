{
  "nbformat": 4,
  "nbformat_minor": 0,
  "metadata": {
    "colab": {
      "name": "02_pytorch_classification_exercises.ipynb",
      "provenance": [],
      "include_colab_link": true
    },
    "kernelspec": {
      "name": "python3",
      "display_name": "Python 3"
    },
    "language_info": {
      "name": "python"
    },
    "accelerator": "GPU",
    "gpuClass": "standard",
    "widgets": {
      "application/vnd.jupyter.widget-state+json": {
        "003c828c00604206a2070bb7306c410a": {
          "model_module": "@jupyter-widgets/controls",
          "model_name": "HBoxModel",
          "model_module_version": "1.5.0",
          "state": {
            "_dom_classes": [],
            "_model_module": "@jupyter-widgets/controls",
            "_model_module_version": "1.5.0",
            "_model_name": "HBoxModel",
            "_view_count": null,
            "_view_module": "@jupyter-widgets/controls",
            "_view_module_version": "1.5.0",
            "_view_name": "HBoxView",
            "box_style": "",
            "children": [
              "IPY_MODEL_2c9516302c37494eaa02a0b3d71ad353",
              "IPY_MODEL_41ef420cb2a540f0828ecf5a654974a7",
              "IPY_MODEL_e6665f7438734e59afc13dceede14b0c"
            ],
            "layout": "IPY_MODEL_264993e7235c44fcb4dbe1b2e438c796"
          }
        },
        "2c9516302c37494eaa02a0b3d71ad353": {
          "model_module": "@jupyter-widgets/controls",
          "model_name": "HTMLModel",
          "model_module_version": "1.5.0",
          "state": {
            "_dom_classes": [],
            "_model_module": "@jupyter-widgets/controls",
            "_model_module_version": "1.5.0",
            "_model_name": "HTMLModel",
            "_view_count": null,
            "_view_module": "@jupyter-widgets/controls",
            "_view_module_version": "1.5.0",
            "_view_name": "HTMLView",
            "description": "",
            "description_tooltip": null,
            "layout": "IPY_MODEL_cce7867951eb4aae9d2995d7360ffd18",
            "placeholder": "​",
            "style": "IPY_MODEL_4246df8b97984dbbb61e354677330aa4",
            "value": "100%"
          }
        },
        "41ef420cb2a540f0828ecf5a654974a7": {
          "model_module": "@jupyter-widgets/controls",
          "model_name": "FloatProgressModel",
          "model_module_version": "1.5.0",
          "state": {
            "_dom_classes": [],
            "_model_module": "@jupyter-widgets/controls",
            "_model_module_version": "1.5.0",
            "_model_name": "FloatProgressModel",
            "_view_count": null,
            "_view_module": "@jupyter-widgets/controls",
            "_view_module_version": "1.5.0",
            "_view_name": "ProgressView",
            "bar_style": "success",
            "description": "",
            "description_tooltip": null,
            "layout": "IPY_MODEL_b47686a423454da5aa09517c5412180e",
            "max": 20000,
            "min": 0,
            "orientation": "horizontal",
            "style": "IPY_MODEL_acef706f96c9450c96c29ed8978b34dc",
            "value": 20000
          }
        },
        "e6665f7438734e59afc13dceede14b0c": {
          "model_module": "@jupyter-widgets/controls",
          "model_name": "HTMLModel",
          "model_module_version": "1.5.0",
          "state": {
            "_dom_classes": [],
            "_model_module": "@jupyter-widgets/controls",
            "_model_module_version": "1.5.0",
            "_model_name": "HTMLModel",
            "_view_count": null,
            "_view_module": "@jupyter-widgets/controls",
            "_view_module_version": "1.5.0",
            "_view_name": "HTMLView",
            "description": "",
            "description_tooltip": null,
            "layout": "IPY_MODEL_05e9e0d0e0784822ad00c6d1097734b4",
            "placeholder": "​",
            "style": "IPY_MODEL_ddebf2a2bb6f4853977147f02f94ad54",
            "value": " 20000/20000 [01:10&lt;00:00, 312.60it/s]"
          }
        },
        "264993e7235c44fcb4dbe1b2e438c796": {
          "model_module": "@jupyter-widgets/base",
          "model_name": "LayoutModel",
          "model_module_version": "1.2.0",
          "state": {
            "_model_module": "@jupyter-widgets/base",
            "_model_module_version": "1.2.0",
            "_model_name": "LayoutModel",
            "_view_count": null,
            "_view_module": "@jupyter-widgets/base",
            "_view_module_version": "1.2.0",
            "_view_name": "LayoutView",
            "align_content": null,
            "align_items": null,
            "align_self": null,
            "border": null,
            "bottom": null,
            "display": null,
            "flex": null,
            "flex_flow": null,
            "grid_area": null,
            "grid_auto_columns": null,
            "grid_auto_flow": null,
            "grid_auto_rows": null,
            "grid_column": null,
            "grid_gap": null,
            "grid_row": null,
            "grid_template_areas": null,
            "grid_template_columns": null,
            "grid_template_rows": null,
            "height": null,
            "justify_content": null,
            "justify_items": null,
            "left": null,
            "margin": null,
            "max_height": null,
            "max_width": null,
            "min_height": null,
            "min_width": null,
            "object_fit": null,
            "object_position": null,
            "order": null,
            "overflow": null,
            "overflow_x": null,
            "overflow_y": null,
            "padding": null,
            "right": null,
            "top": null,
            "visibility": null,
            "width": null
          }
        },
        "cce7867951eb4aae9d2995d7360ffd18": {
          "model_module": "@jupyter-widgets/base",
          "model_name": "LayoutModel",
          "model_module_version": "1.2.0",
          "state": {
            "_model_module": "@jupyter-widgets/base",
            "_model_module_version": "1.2.0",
            "_model_name": "LayoutModel",
            "_view_count": null,
            "_view_module": "@jupyter-widgets/base",
            "_view_module_version": "1.2.0",
            "_view_name": "LayoutView",
            "align_content": null,
            "align_items": null,
            "align_self": null,
            "border": null,
            "bottom": null,
            "display": null,
            "flex": null,
            "flex_flow": null,
            "grid_area": null,
            "grid_auto_columns": null,
            "grid_auto_flow": null,
            "grid_auto_rows": null,
            "grid_column": null,
            "grid_gap": null,
            "grid_row": null,
            "grid_template_areas": null,
            "grid_template_columns": null,
            "grid_template_rows": null,
            "height": null,
            "justify_content": null,
            "justify_items": null,
            "left": null,
            "margin": null,
            "max_height": null,
            "max_width": null,
            "min_height": null,
            "min_width": null,
            "object_fit": null,
            "object_position": null,
            "order": null,
            "overflow": null,
            "overflow_x": null,
            "overflow_y": null,
            "padding": null,
            "right": null,
            "top": null,
            "visibility": null,
            "width": null
          }
        },
        "4246df8b97984dbbb61e354677330aa4": {
          "model_module": "@jupyter-widgets/controls",
          "model_name": "DescriptionStyleModel",
          "model_module_version": "1.5.0",
          "state": {
            "_model_module": "@jupyter-widgets/controls",
            "_model_module_version": "1.5.0",
            "_model_name": "DescriptionStyleModel",
            "_view_count": null,
            "_view_module": "@jupyter-widgets/base",
            "_view_module_version": "1.2.0",
            "_view_name": "StyleView",
            "description_width": ""
          }
        },
        "b47686a423454da5aa09517c5412180e": {
          "model_module": "@jupyter-widgets/base",
          "model_name": "LayoutModel",
          "model_module_version": "1.2.0",
          "state": {
            "_model_module": "@jupyter-widgets/base",
            "_model_module_version": "1.2.0",
            "_model_name": "LayoutModel",
            "_view_count": null,
            "_view_module": "@jupyter-widgets/base",
            "_view_module_version": "1.2.0",
            "_view_name": "LayoutView",
            "align_content": null,
            "align_items": null,
            "align_self": null,
            "border": null,
            "bottom": null,
            "display": null,
            "flex": null,
            "flex_flow": null,
            "grid_area": null,
            "grid_auto_columns": null,
            "grid_auto_flow": null,
            "grid_auto_rows": null,
            "grid_column": null,
            "grid_gap": null,
            "grid_row": null,
            "grid_template_areas": null,
            "grid_template_columns": null,
            "grid_template_rows": null,
            "height": null,
            "justify_content": null,
            "justify_items": null,
            "left": null,
            "margin": null,
            "max_height": null,
            "max_width": null,
            "min_height": null,
            "min_width": null,
            "object_fit": null,
            "object_position": null,
            "order": null,
            "overflow": null,
            "overflow_x": null,
            "overflow_y": null,
            "padding": null,
            "right": null,
            "top": null,
            "visibility": null,
            "width": null
          }
        },
        "acef706f96c9450c96c29ed8978b34dc": {
          "model_module": "@jupyter-widgets/controls",
          "model_name": "ProgressStyleModel",
          "model_module_version": "1.5.0",
          "state": {
            "_model_module": "@jupyter-widgets/controls",
            "_model_module_version": "1.5.0",
            "_model_name": "ProgressStyleModel",
            "_view_count": null,
            "_view_module": "@jupyter-widgets/base",
            "_view_module_version": "1.2.0",
            "_view_name": "StyleView",
            "bar_color": null,
            "description_width": ""
          }
        },
        "05e9e0d0e0784822ad00c6d1097734b4": {
          "model_module": "@jupyter-widgets/base",
          "model_name": "LayoutModel",
          "model_module_version": "1.2.0",
          "state": {
            "_model_module": "@jupyter-widgets/base",
            "_model_module_version": "1.2.0",
            "_model_name": "LayoutModel",
            "_view_count": null,
            "_view_module": "@jupyter-widgets/base",
            "_view_module_version": "1.2.0",
            "_view_name": "LayoutView",
            "align_content": null,
            "align_items": null,
            "align_self": null,
            "border": null,
            "bottom": null,
            "display": null,
            "flex": null,
            "flex_flow": null,
            "grid_area": null,
            "grid_auto_columns": null,
            "grid_auto_flow": null,
            "grid_auto_rows": null,
            "grid_column": null,
            "grid_gap": null,
            "grid_row": null,
            "grid_template_areas": null,
            "grid_template_columns": null,
            "grid_template_rows": null,
            "height": null,
            "justify_content": null,
            "justify_items": null,
            "left": null,
            "margin": null,
            "max_height": null,
            "max_width": null,
            "min_height": null,
            "min_width": null,
            "object_fit": null,
            "object_position": null,
            "order": null,
            "overflow": null,
            "overflow_x": null,
            "overflow_y": null,
            "padding": null,
            "right": null,
            "top": null,
            "visibility": null,
            "width": null
          }
        },
        "ddebf2a2bb6f4853977147f02f94ad54": {
          "model_module": "@jupyter-widgets/controls",
          "model_name": "DescriptionStyleModel",
          "model_module_version": "1.5.0",
          "state": {
            "_model_module": "@jupyter-widgets/controls",
            "_model_module_version": "1.5.0",
            "_model_name": "DescriptionStyleModel",
            "_view_count": null,
            "_view_module": "@jupyter-widgets/base",
            "_view_module_version": "1.2.0",
            "_view_name": "StyleView",
            "description_width": ""
          }
        }
      }
    }
  },
  "cells": [
    {
      "cell_type": "markdown",
      "metadata": {
        "id": "view-in-github",
        "colab_type": "text"
      },
      "source": [
        "<a href=\"https://colab.research.google.com/github/oms12/pytorch-deep-learning/blob/main/extras/exercises/02_pytorch_classification_exercises.ipynb\" target=\"_parent\"><img src=\"https://colab.research.google.com/assets/colab-badge.svg\" alt=\"Open In Colab\"/></a>"
      ]
    },
    {
      "cell_type": "markdown",
      "source": [
        "# 02. PyTorch Classification Exercises\n",
        "\n",
        "The following is a template for 02. PyTorch Classification exercises.\n",
        "\n",
        "It's only starter code and it's your job to fill in the blanks.\n",
        "\n",
        "Because of the flexibility of PyTorch, there may be more than one way to answer the question.\n",
        "\n",
        "Don't worry about trying to be *right* just try writing code that suffices the question.\n",
        "\n",
        "## Resources\n",
        "* These exercises are based on [notebook 02 of the learn PyTorch course](https://www.learnpytorch.io/02_pytorch_classification/).\n",
        "* You can see one form of [solutions on GitHub](https://github.com/mrdbourke/pytorch-deep-learning/tree/main/extras/solutions) (but try the exercises below yourself first!)."
      ],
      "metadata": {
        "id": "ZKJFt7YxH8yl"
      }
    },
    {
      "cell_type": "code",
      "source": [
        "# Import torch\n",
        "import torch\n",
        "\n",
        "# Setup device agnostic code\n",
        "\n",
        "\n",
        "# Setup random seed\n",
        "RANDOM_SEED = 42"
      ],
      "metadata": {
        "id": "CSrUPgapO0tf"
      },
      "execution_count": null,
      "outputs": []
    },
    {
      "cell_type": "markdown",
      "source": [
        "## 1. Make a binary classification dataset with Scikit-Learn's [`make_moons()`](https://scikit-learn.org/stable/modules/generated/sklearn.datasets.make_moons.html) function.\n",
        "  * For consistency, the dataset should have 1000 samples and a `random_state=42`.\n",
        "  * Turn the data into PyTorch tensors. \n",
        "  * Split the data into training and test sets using `train_test_split` with 80% training and 20% testing."
      ],
      "metadata": {
        "id": "pH7jIZ2SPFee"
      }
    },
    {
      "cell_type": "code",
      "source": [
        "# Create a dataset with Scikit-Learn's make_moons()\n",
        "from sklearn.datasets import make_moons"
      ],
      "metadata": {
        "id": "5t4VhPV1PX1X"
      },
      "execution_count": null,
      "outputs": []
    },
    {
      "cell_type": "code",
      "source": [
        "# Turn data into a DataFrame\n",
        "import pandas as pd\n"
      ],
      "metadata": {
        "id": "SUeHZ3-3P9C7"
      },
      "execution_count": null,
      "outputs": []
    },
    {
      "cell_type": "code",
      "source": [
        "# Visualize the data on a scatter plot\n",
        "import matplotlib.pyplot as plt\n"
      ],
      "metadata": {
        "id": "owrkPSFvQPFI"
      },
      "execution_count": null,
      "outputs": []
    },
    {
      "cell_type": "code",
      "source": [
        "# Turn data into tensors of dtype float\n",
        "\n",
        "\n",
        "# Split the data into train and test sets (80% train, 20% test)\n",
        "from sklearn.model_selection import train_test_split\n"
      ],
      "metadata": {
        "id": "bDhyHn9fR4dq"
      },
      "execution_count": null,
      "outputs": []
    },
    {
      "cell_type": "markdown",
      "source": [
        "## 2. Build a model by subclassing `nn.Module` that incorporates non-linear activation functions and is capable of fitting the data you created in 1.\n",
        "  * Feel free to use any combination of PyTorch layers (linear and non-linear) you want."
      ],
      "metadata": {
        "id": "cMIjxZdzQfPz"
      }
    },
    {
      "cell_type": "code",
      "source": [
        "import torch\n",
        "from torch import nn\n",
        "\n",
        "# Inherit from nn.Module to make a model capable of fitting the mooon data\n",
        "class MoonModelV0(nn.Module):\n",
        "    ## Your code here ##\n",
        "\n",
        "    def forward(self, x):\n",
        "        ## Your code here ##\n",
        "        return \n",
        "\n",
        "# Instantiate the model\n",
        "## Your code here ##"
      ],
      "metadata": {
        "id": "hwtyvm34Ri6Q"
      },
      "execution_count": null,
      "outputs": []
    },
    {
      "cell_type": "markdown",
      "source": [
        "## 3. Setup a binary classification compatible loss function and optimizer to use when training the model built in 2."
      ],
      "metadata": {
        "id": "DSj97RwyVeFE"
      }
    },
    {
      "cell_type": "code",
      "source": [
        "# Setup loss function\n",
        "\n",
        "# Setup optimizer to optimize model's parameters"
      ],
      "metadata": {
        "id": "whSGw5qgVvxU"
      },
      "execution_count": null,
      "outputs": []
    },
    {
      "cell_type": "markdown",
      "source": [
        "## 4. Create a training and testing loop to fit the model you created in 2 to the data you created in 1.\n",
        "  * Do a forward pass of the model to see what's coming out in the form of logits, prediction probabilities and labels.\n",
        "  * To measure model accuray, you can create your own accuracy function or use the accuracy function in [TorchMetrics](https://torchmetrics.readthedocs.io/en/latest/).\n",
        "  * Train the model for long enough for it to reach over 96% accuracy.\n",
        "  * The training loop should output progress every 10 epochs of the model's training and test set loss and accuracy."
      ],
      "metadata": {
        "id": "nvk4PfNTWUAt"
      }
    },
    {
      "cell_type": "code",
      "source": [
        "# What's coming out of our model?\n",
        "\n",
        "# logits (raw outputs of model)\n",
        "print(\"Logits:\")\n",
        "## Your code here ##\n",
        "\n",
        "# Prediction probabilities\n",
        "print(\"Pred probs:\")\n",
        "## Your code here ##\n",
        "\n",
        "# Prediction probabilities\n",
        "print(\"Pred labels:\")\n",
        "## Your code here ##"
      ],
      "metadata": {
        "colab": {
          "base_uri": "https://localhost:8080/"
        },
        "id": "AgnFdlamd2-D",
        "outputId": "627d8c33-071e-4925-f18b-5d5ba6126729"
      },
      "execution_count": null,
      "outputs": [
        {
          "output_type": "stream",
          "name": "stdout",
          "text": [
            "Logits:\n",
            "Pred probs:\n",
            "Pred labels:\n"
          ]
        }
      ]
    },
    {
      "cell_type": "code",
      "source": [
        "# Let's calculuate the accuracy using accuracy from TorchMetrics\n",
        "!pip -q install torchmetrics # Colab doesn't come with torchmetrics\n",
        "from torchmetrics import Accuracy\n",
        "\n",
        "## TODO: Uncomment this code to use the Accuracy function\n",
        "# acc_fn = Accuracy(task=\"multiclass\", num_classes=2).to(device) # send accuracy function to device\n",
        "# acc_fn"
      ],
      "metadata": {
        "id": "rUSDNHB4euoJ"
      },
      "execution_count": null,
      "outputs": []
    },
    {
      "cell_type": "code",
      "source": [
        "## TODO: Uncomment this to set the seed\n",
        "# torch.manual_seed(RANDOM_SEED)\n",
        "\n",
        "# Setup epochs\n",
        "\n",
        "\n",
        "# Send data to the device\n",
        "\n",
        "\n",
        "# Loop through the data\n",
        "# for epoch in range(epochs):\n",
        "  ### Training\n",
        "  \n",
        "\n",
        "  # 1. Forward pass (logits output)\n",
        "  \n",
        "  # Turn logits into prediction probabilities\n",
        "  \n",
        "\n",
        "  # Turn prediction probabilities into prediction labels\n",
        "  \n",
        "\n",
        "  # 2. Calculaute the loss\n",
        "  # loss = loss_fn(y_logits, y_train) # loss = compare model raw outputs to desired model outputs\n",
        "\n",
        "  # Calculate the accuracy\n",
        "  # acc = acc_fn(y_pred, y_train.int()) # the accuracy function needs to compare pred labels (not logits) with actual labels\n",
        "\n",
        "  # 3. Zero the gradients\n",
        "  \n",
        "\n",
        "  # 4. Loss backward (perform backpropagation) - https://brilliant.org/wiki/backpropagation/#:~:text=Backpropagation%2C%20short%20for%20%22backward%20propagation,to%20the%20neural%20network's%20weights.\n",
        "  \n",
        "  # 5. Step the optimizer (gradient descent) - https://towardsdatascience.com/gradient-descent-algorithm-a-deep-dive-cf04e8115f21#:~:text=Gradient%20descent%20(GD)%20is%20an,e.g.%20in%20a%20linear%20regression) \n",
        "  \n",
        "\n",
        "  ### Testing\n",
        "  # model_0.eval() \n",
        "  # with torch.inference_mode():\n",
        "    # 1. Forward pass (to get the logits)\n",
        "    \n",
        "    # Turn the test logits into prediction labels\n",
        "    \n",
        "\n",
        "    # 2. Caculate the test loss/acc\n",
        "    \n",
        "\n",
        "  # Print out what's happening every 100 epochs\n",
        "  # if epoch % 100 == 0:\n",
        "    "
      ],
      "metadata": {
        "id": "SHBY3h7XXnxt"
      },
      "execution_count": null,
      "outputs": []
    },
    {
      "cell_type": "markdown",
      "source": [
        "## 5. Make predictions with your trained model and plot them using the `plot_decision_boundary()` function created in this notebook."
      ],
      "metadata": {
        "id": "8Nwihtomj9JO"
      }
    },
    {
      "cell_type": "code",
      "source": [
        "# Plot the model predictions\n",
        "import numpy as np\n",
        "\n",
        "def plot_decision_boundary(model, X, y):\n",
        "  \n",
        "    # Put everything to CPU (works better with NumPy + Matplotlib)\n",
        "    model.to(\"cpu\")\n",
        "    X, y = X.to(\"cpu\"), y.to(\"cpu\")\n",
        "\n",
        "    # Source - https://madewithml.com/courses/foundations/neural-networks/ \n",
        "    # (with modifications)\n",
        "    x_min, x_max = X[:, 0].min() - 0.1, X[:, 0].max() + 0.1\n",
        "    y_min, y_max = X[:, 1].min() - 0.1, X[:, 1].max() + 0.1\n",
        "    xx, yy = np.meshgrid(np.linspace(x_min, x_max, 101), \n",
        "                         np.linspace(y_min, y_max, 101))\n",
        "\n",
        "    # Make features\n",
        "    X_to_pred_on = torch.from_numpy(np.column_stack((xx.ravel(), yy.ravel()))).float()\n",
        "\n",
        "    # Make predictions\n",
        "    model.eval()\n",
        "    with torch.inference_mode():\n",
        "        y_logits = model(X_to_pred_on)\n",
        "\n",
        "    # Test for multi-class or binary and adjust logits to prediction labels\n",
        "    if len(torch.unique(y)) > 2:\n",
        "        y_pred = torch.softmax(y_logits, dim=1).argmax(dim=1) # mutli-class\n",
        "    else: \n",
        "        y_pred = torch.round(torch.sigmoid(y_logits)) # binary\n",
        "    \n",
        "    # Reshape preds and plot\n",
        "    y_pred = y_pred.reshape(xx.shape).detach().numpy()\n",
        "    plt.contourf(xx, yy, y_pred, cmap=plt.cm.RdYlBu, alpha=0.7)\n",
        "    plt.scatter(X[:, 0], X[:, 1], c=y, s=40, cmap=plt.cm.RdYlBu)\n",
        "    plt.xlim(xx.min(), xx.max())\n",
        "    plt.ylim(yy.min(), yy.max())"
      ],
      "metadata": {
        "id": "0YRzatb8a1P2"
      },
      "execution_count": null,
      "outputs": []
    },
    {
      "cell_type": "code",
      "source": [
        "# Plot decision boundaries for training and test sets\n"
      ],
      "metadata": {
        "id": "PMrcpyirig1d"
      },
      "execution_count": null,
      "outputs": []
    },
    {
      "cell_type": "markdown",
      "source": [
        "## 6. Replicate the Tanh (hyperbolic tangent) activation function in pure PyTorch.\n",
        "  * Feel free to reference the [ML cheatsheet website](https://ml-cheatsheet.readthedocs.io/en/latest/activation_functions.html#tanh) for the formula."
      ],
      "metadata": {
        "id": "EtMYBvtciiAU"
      }
    },
    {
      "cell_type": "code",
      "source": [
        "# Create a straight line tensor\n"
      ],
      "metadata": {
        "id": "BlXaWC5TkEUE"
      },
      "execution_count": null,
      "outputs": []
    },
    {
      "cell_type": "code",
      "source": [
        "# Test torch.tanh() on the tensor and plot it\n"
      ],
      "metadata": {
        "id": "vZPCcQmIkZjO"
      },
      "execution_count": null,
      "outputs": []
    },
    {
      "cell_type": "code",
      "source": [
        "# Replicate torch.tanh() and plot it\n"
      ],
      "metadata": {
        "id": "J-ne__Kjkdc1"
      },
      "execution_count": null,
      "outputs": []
    },
    {
      "cell_type": "markdown",
      "source": [
        "## 7. Create a multi-class dataset using the [spirals data creation function from CS231n](https://cs231n.github.io/neural-networks-case-study/) (see below for the code).\n",
        "  * Split the data into training and test sets (80% train, 20% test) as well as turn it into PyTorch tensors.\n",
        "  * Construct a model capable of fitting the data (you may need a combination of linear and non-linear layers).\n",
        "  * Build a loss function and optimizer capable of handling multi-class data (optional extension: use the Adam optimizer instead of SGD, you may have to experiment with different values of the learning rate to get it working).\n",
        "  * Make a training and testing loop for the multi-class data and train a model on it to reach over 95% testing accuracy (you can use any accuracy measuring function here that you like) - 1000 epochs should be plenty.\n",
        "  * Plot the decision boundaries on the spirals dataset from your model predictions, the `plot_decision_boundary()` function should work for this dataset too."
      ],
      "metadata": {
        "id": "Lbt1bNcWk5G9"
      }
    },
    {
      "cell_type": "code",
      "source": [
        "# Code for creating a spiral dataset from CS231n\n",
        "import numpy as np\n",
        "import matplotlib.pyplot as plt\n",
        "RANDOM_SEED = 42\n",
        "np.random.seed(RANDOM_SEED)\n",
        "N = 100 # number of points per class\n",
        "D = 2 # dimensionality\n",
        "K = 3 # number of classes\n",
        "X = np.zeros((N*K,D)) # data matrix (each row = single example)\n",
        "y = np.zeros(N*K, dtype='uint8') # class labels\n",
        "for j in range(K):\n",
        "  ix = range(N*j,N*(j+1))\n",
        "  r = np.linspace(0.0,1,N) # radius\n",
        "  t = np.linspace(j*4,(j+1)*4,N) + np.random.randn(N)*0.2 # theta\n",
        "  X[ix] = np.c_[r*np.sin(t), r*np.cos(t)]\n",
        "  y[ix] = j\n",
        "# lets visualize the data\n",
        "plt.scatter(X[:, 0], X[:, 1], c=y, s=40, cmap=plt.cm.RdYlBu)\n",
        "plt.show()"
      ],
      "metadata": {
        "colab": {
          "base_uri": "https://localhost:8080/",
          "height": 265
        },
        "id": "tU-UNZsKlJls",
        "outputId": "8c45f284-8a13-4e97-f015-3f6d344c1a64"
      },
      "execution_count": 2,
      "outputs": [
        {
          "output_type": "display_data",
          "data": {
            "text/plain": [
              "<Figure size 432x288 with 1 Axes>"
            ],
            "image/png": "[encoded data removed]"
          },
          "metadata": {
            "needs_background": "light"
          }
        }
      ]
    },
    {
      "cell_type": "code",
      "source": [
        "# Turn data into tensors\n",
        "# Prepare device agnostic code\n",
        "import torch\n",
        "device = \"cuda\" if torch.cuda.is_available() else \"cpu\"\n",
        "X = torch.from_numpy(X).type(torch.float) # features as float32\n",
        "y = torch.from_numpy(y).type(torch.LongTensor) # labels need to be of type long\n",
        "\n",
        "# Create train and test splits\n",
        "from sklearn.model_selection import train_test_split\n",
        "X_train,X_test, y_train, y_test = train_test_split(X, y, test_size = 0.2, random_state = 42)\n",
        "print(len(X_test))\n",
        "device"
      ],
      "metadata": {
        "id": "OWVrmkEyl0VP",
        "outputId": "3c4e7ca3-ae56-4786-9441-073740611a9c",
        "colab": {
          "base_uri": "https://localhost:8080/",
          "height": 54
        }
      },
      "execution_count": 4,
      "outputs": [
        {
          "output_type": "stream",
          "name": "stdout",
          "text": [
            "60\n"
          ]
        },
        {
          "output_type": "execute_result",
          "data": {
            "text/plain": [
              "'cuda'"
            ],
            "application/vnd.google.colaboratory.intrinsic+json": {
              "type": "string"
            }
          },
          "metadata": {},
          "execution_count": 4
        }
      ]
    },
    {
      "cell_type": "code",
      "source": [
        "# Let's calculuate the accuracy for when we fit our model\n",
        "!pip -q install torchmetrics # colab doesn't come with torchmetrics\n",
        "from torchmetrics import Accuracy\n",
        "## TODO: uncomment the two lines below to send the accuracy function to the device\n",
        "acc_fn = Accuracy(task=\"multiclass\", num_classes=4).to(device)\n",
        "# acc_fn"
      ],
      "metadata": {
        "id": "a-v-7f0op0tG",
        "outputId": "51562f4a-a228-4c5a-e7c9-82bc0f5d5fd4",
        "colab": {
          "base_uri": "https://localhost:8080/"
        }
      },
      "execution_count": 5,
      "outputs": [
        {
          "output_type": "stream",
          "name": "stdout",
          "text": [
            "\u001b[?25l     \u001b[90m━━━━━━━━━━━━━━━━━━━━━━━━━━━━━━━━━━━━━━━━\u001b[0m \u001b[32m0.0/512.4 KB\u001b[0m \u001b[31m?\u001b[0m eta \u001b[36m-:--:--\u001b[0m\r\u001b[2K     \u001b[91m━━━━━━━━━━━━━━━━━━━━━━━━━━━━━━━━━━━━━\u001b[0m\u001b[91m╸\u001b[0m \u001b[32m512.0/512.4 KB\u001b[0m \u001b[31m18.0 MB/s\u001b[0m eta \u001b[36m0:00:01\u001b[0m\r\u001b[2K     \u001b[90m━━━━━━━━━━━━━━━━━━━━━━━━━━━━━━━━━━━━━━\u001b[0m \u001b[32m512.4/512.4 KB\u001b[0m \u001b[31m13.5 MB/s\u001b[0m eta \u001b[36m0:00:00\u001b[0m\n",
            "\u001b[?25h"
          ]
        }
      ]
    },
    {
      "cell_type": "code",
      "source": [
        "import torch.nn as nn\n",
        "# in sequential we use the comma for our use.\n",
        "# Create model by subclassing nn.Module\n",
        "class MultiLableClassification(nn.Module):\n",
        "  def __init__(self, in_feature, out_feature, hidden_unit = 10):\n",
        "    super().__init__()\n",
        "    self.layer_stack = nn.Sequential (\n",
        "        nn.Linear(in_features = in_feature, out_features = hidden_unit, bias = True),\n",
        "        nn.LeakyReLU(0.1),\n",
        "        nn.Linear(in_features = hidden_unit, out_features = hidden_unit, bias = True),\n",
        "        nn.LeakyReLU(0.1),\n",
        "        nn.Linear(in_features = hidden_unit, out_features = out_feature, bias = True)\n",
        "    )\n",
        "\n",
        "  def forward(self,x):\n",
        "      return self.layer_stack(x)\n",
        "\n",
        "# Instantiate model and send it to device\n",
        "\n",
        "Model = MultiLableClassification(in_feature = 2, out_feature = 4)\n",
        "Model = Model.to(device)\n",
        "print(Model)\n"
      ],
      "metadata": {
        "id": "DB3u3ldumapf",
        "outputId": "e6e9054e-4adb-4506-d64a-b50de1c44c3a",
        "colab": {
          "base_uri": "https://localhost:8080/"
        }
      },
      "execution_count": 6,
      "outputs": [
        {
          "output_type": "stream",
          "name": "stdout",
          "text": [
            "MultiLableClassification(\n",
            "  (layer_stack): Sequential(\n",
            "    (0): Linear(in_features=2, out_features=10, bias=True)\n",
            "    (1): LeakyReLU(negative_slope=0.1)\n",
            "    (2): Linear(in_features=10, out_features=10, bias=True)\n",
            "    (3): LeakyReLU(negative_slope=0.1)\n",
            "    (4): Linear(in_features=10, out_features=4, bias=True)\n",
            "  )\n",
            ")\n"
          ]
        }
      ]
    },
    {
      "cell_type": "code",
      "source": [
        "# Setup data to be device agnostic\n",
        "X_train, X_test = X_train.to(device), X_test.to(device)\n",
        "y_train, y_test = y_train.to(device), y_test.to(device)\n",
        "\n",
        "check = Model(X_train[:10])\n",
        "# Print out first 10 untrained model outputs (forward pass)\n",
        "print(\"Logits:\")\n",
        "## Your code here ##\n",
        "print(check)\n",
        "print(\"Pred probs:\")\n",
        "## Your code here ##\n",
        "print(torch.softmax(check, dim = 1))\n",
        "print(\"Pred labels:\")\n",
        "## Your code here ##\n",
        "print(torch.argmax(torch.softmax(check, dim = 1), dim = 1))"
      ],
      "metadata": {
        "colab": {
          "base_uri": "https://localhost:8080/"
        },
        "id": "QE7XWSSunMTS",
        "outputId": "5ac607f7-6b15-488c-9284-60bb907e5cea"
      },
      "execution_count": 7,
      "outputs": [
        {
          "output_type": "stream",
          "name": "stdout",
          "text": [
            "Logits:\n",
            "tensor([[-0.1769,  0.1267,  0.0404,  0.1200],\n",
            "        [-0.1725,  0.1415,  0.0591,  0.1365],\n",
            "        [-0.1551,  0.1133,  0.0383,  0.1199],\n",
            "        [-0.1383,  0.1010,  0.0396,  0.1944],\n",
            "        [-0.1294,  0.0807,  0.0062,  0.1704],\n",
            "        [-0.1469,  0.1046,  0.0331,  0.1418],\n",
            "        [-0.1479,  0.1045,  0.0315,  0.1337],\n",
            "        [-0.2028,  0.1081,  0.0008,  0.0986],\n",
            "        [-0.1639,  0.1393,  0.0691,  0.1491],\n",
            "        [-0.1378,  0.1002,  0.0389,  0.1954]], device='cuda:0',\n",
            "       grad_fn=<AddmmBackward0>)\n",
            "Pred probs:\n",
            "tensor([[0.2023, 0.2741, 0.2514, 0.2722],\n",
            "        [0.2003, 0.2742, 0.2526, 0.2729],\n",
            "        [0.2067, 0.2703, 0.2508, 0.2721],\n",
            "        [0.2058, 0.2614, 0.2458, 0.2870],\n",
            "        [0.2115, 0.2609, 0.2422, 0.2854],\n",
            "        [0.2076, 0.2669, 0.2485, 0.2770],\n",
            "        [0.2079, 0.2677, 0.2488, 0.2756],\n",
            "        [0.2023, 0.2761, 0.2480, 0.2735],\n",
            "        [0.2006, 0.2717, 0.2533, 0.2744],\n",
            "        [0.2059, 0.2612, 0.2457, 0.2873]], device='cuda:0',\n",
            "       grad_fn=<SoftmaxBackward0>)\n",
            "Pred labels:\n",
            "tensor([1, 1, 3, 3, 3, 3, 3, 1, 3, 3], device='cuda:0')\n"
          ]
        }
      ]
    },
    {
      "cell_type": "code",
      "source": [
        "# Setup loss function and optimizer\n",
        "loss_fn = nn.CrossEntropyLoss()\n",
        "optimizer = torch.optim.SGD(Model.parameters(),lr = 0.01)"
      ],
      "metadata": {
        "id": "54EqLRKLo0AW"
      },
      "execution_count": 8,
      "outputs": []
    },
    {
      "cell_type": "code",
      "source": [
        "# Build a training loop for the model\n",
        "# acc_fn\n",
        "from tqdm.auto import tqdm\n",
        "epochs = 20000\n",
        "# Loop over data\n",
        "for epoch in tqdm(range(epochs)):\n",
        "\n",
        "  ## Training\n",
        "  Model.train()\n",
        "  # 1. Forward pass\n",
        "  outputs = Model(X_train)\n",
        "\n",
        "  # 2. Calculate the loss\n",
        "  train_loss = loss_fn(outputs,y_train)\n",
        "  train_acc = acc_fn(torch.argmax(torch.softmax(outputs, dim = 1), dim = 1),y_train)\n",
        "  # 3. Optimizer zero grad\n",
        "  optimizer.zero_grad()\n",
        "\n",
        "  # 4. Loss backward\n",
        "  train_loss.backward()\n",
        "\n",
        "  # 5. Optimizer step\n",
        "  optimizer.step()\n",
        "\n",
        "  ## Testing\n",
        "  Model.eval()\n",
        "  with torch.inference_mode():\n",
        "    # 1. Forward pass\n",
        "    y_logits = Model(X_test)\n",
        "    # 2. Caculate loss and acc\n",
        "    test_loss = loss_fn(y_logits,y_test)\n",
        "    # check to calculate the accuracy what we need to do convert the logits to original form\n",
        "    test_acc = acc_fn(torch.argmax(torch.softmax(y_logits, dim = 1), dim = 1),y_test)\n",
        "  # Print out what's happening every 100 epochs\n",
        "  if epoch%100 == 0:\n",
        "    print(f\"Epoch: {epoch} | train_loss: {train_loss:.5f}, train_acc: {train_acc:.2f}% : test_loss: {test_loss}, test_acc: {test_acc: .2f}%\")"
      ],
      "metadata": {
        "id": "vIlExkUHnmxi",
        "outputId": "d2982f3d-64da-4384-e8a7-8331b4bd24d6",
        "colab": {
          "base_uri": "https://localhost:8080/",
          "height": 1000,
          "referenced_widgets": [
            "003c828c00604206a2070bb7306c410a",
            "2c9516302c37494eaa02a0b3d71ad353",
            "41ef420cb2a540f0828ecf5a654974a7",
            "e6665f7438734e59afc13dceede14b0c",
            "264993e7235c44fcb4dbe1b2e438c796",
            "cce7867951eb4aae9d2995d7360ffd18",
            "4246df8b97984dbbb61e354677330aa4",
            "b47686a423454da5aa09517c5412180e",
            "acef706f96c9450c96c29ed8978b34dc",
            "05e9e0d0e0784822ad00c6d1097734b4",
            "ddebf2a2bb6f4853977147f02f94ad54"
          ]
        }
      },
      "execution_count": 9,
      "outputs": [
        {
          "output_type": "display_data",
          "data": {
            "text/plain": [
              "  0%|          | 0/20000 [00:00<?, ?it/s]"
            ],
            "application/vnd.jupyter.widget-view+json": {
              "version_major": 2,
              "version_minor": 0,
              "model_id": "003c828c00604206a2070bb7306c410a"
            }
          },
          "metadata": {}
        },
        {
          "output_type": "stream",
          "name": "stdout",
          "text": [
            "Epoch: 0 | train_loss: 1.43197, train_acc: 0.14% : test_loss: 1.4464914798736572, test_acc:  0.08%\n",
            "Epoch: 100 | train_loss: 1.32465, train_acc: 0.35% : test_loss: 1.3405874967575073, test_acc:  0.27%\n",
            "Epoch: 200 | train_loss: 1.26417, train_acc: 0.35% : test_loss: 1.2801355123519897, test_acc:  0.27%\n",
            "Epoch: 300 | train_loss: 1.22362, train_acc: 0.35% : test_loss: 1.2393851280212402, test_acc:  0.27%\n",
            "Epoch: 400 | train_loss: 1.19324, train_acc: 0.35% : test_loss: 1.2089543342590332, test_acc:  0.27%\n",
            "Epoch: 500 | train_loss: 1.16856, train_acc: 0.35% : test_loss: 1.184568166732788, test_acc:  0.27%\n",
            "Epoch: 600 | train_loss: 1.14709, train_acc: 0.35% : test_loss: 1.1638729572296143, test_acc:  0.27%\n",
            "Epoch: 700 | train_loss: 1.12746, train_acc: 0.35% : test_loss: 1.1451905965805054, test_acc:  0.27%\n",
            "Epoch: 800 | train_loss: 1.10765, train_acc: 0.42% : test_loss: 1.1264318227767944, test_acc:  0.27%\n",
            "Epoch: 900 | train_loss: 1.08708, train_acc: 0.48% : test_loss: 1.1065400838851929, test_acc:  0.32%\n",
            "Epoch: 1000 | train_loss: 1.06739, train_acc: 0.50% : test_loss: 1.0870493650436401, test_acc:  0.38%\n",
            "Epoch: 1100 | train_loss: 1.04749, train_acc: 0.52% : test_loss: 1.0669727325439453, test_acc:  0.43%\n",
            "Epoch: 1200 | train_loss: 1.02759, train_acc: 0.54% : test_loss: 1.0462651252746582, test_acc:  0.45%\n",
            "Epoch: 1300 | train_loss: 1.00780, train_acc: 0.54% : test_loss: 1.0255630016326904, test_acc:  0.50%\n",
            "Epoch: 1400 | train_loss: 0.98842, train_acc: 0.53% : test_loss: 1.0049926042556763, test_acc:  0.50%\n",
            "Epoch: 1500 | train_loss: 0.96985, train_acc: 0.52% : test_loss: 0.9850780963897705, test_acc:  0.50%\n",
            "Epoch: 1600 | train_loss: 0.95242, train_acc: 0.50% : test_loss: 0.9662058353424072, test_acc:  0.47%\n",
            "Epoch: 1700 | train_loss: 0.93623, train_acc: 0.49% : test_loss: 0.9484971761703491, test_acc:  0.48%\n",
            "Epoch: 1800 | train_loss: 0.92117, train_acc: 0.47% : test_loss: 0.9316980838775635, test_acc:  0.48%\n",
            "Epoch: 1900 | train_loss: 0.90690, train_acc: 0.46% : test_loss: 0.9156891703605652, test_acc:  0.47%\n",
            "Epoch: 2000 | train_loss: 0.89280, train_acc: 0.48% : test_loss: 0.899838387966156, test_acc:  0.47%\n",
            "Epoch: 2100 | train_loss: 0.87866, train_acc: 0.50% : test_loss: 0.8840625286102295, test_acc:  0.43%\n",
            "Epoch: 2200 | train_loss: 0.86423, train_acc: 0.51% : test_loss: 0.8681847453117371, test_acc:  0.43%\n",
            "Epoch: 2300 | train_loss: 0.84903, train_acc: 0.53% : test_loss: 0.852046549320221, test_acc:  0.45%\n",
            "Epoch: 2400 | train_loss: 0.83329, train_acc: 0.53% : test_loss: 0.8357760310173035, test_acc:  0.48%\n",
            "Epoch: 2500 | train_loss: 0.81704, train_acc: 0.55% : test_loss: 0.8195288181304932, test_acc:  0.52%\n",
            "Epoch: 2600 | train_loss: 0.80037, train_acc: 0.57% : test_loss: 0.8033381700515747, test_acc:  0.57%\n",
            "Epoch: 2700 | train_loss: 0.78337, train_acc: 0.57% : test_loss: 0.7872809767723083, test_acc:  0.55%\n",
            "Epoch: 2800 | train_loss: 0.76740, train_acc: 0.58% : test_loss: 0.7723829746246338, test_acc:  0.53%\n",
            "Epoch: 2900 | train_loss: 0.75282, train_acc: 0.57% : test_loss: 0.7588533759117126, test_acc:  0.53%\n",
            "Epoch: 3000 | train_loss: 0.74037, train_acc: 0.58% : test_loss: 0.7465822696685791, test_acc:  0.53%\n",
            "Epoch: 3100 | train_loss: 0.72971, train_acc: 0.57% : test_loss: 0.7364696860313416, test_acc:  0.53%\n",
            "Epoch: 3200 | train_loss: 0.72042, train_acc: 0.57% : test_loss: 0.7280417084693909, test_acc:  0.55%\n",
            "Epoch: 3300 | train_loss: 0.71240, train_acc: 0.57% : test_loss: 0.7213472127914429, test_acc:  0.55%\n",
            "Epoch: 3400 | train_loss: 0.70567, train_acc: 0.57% : test_loss: 0.7158582210540771, test_acc:  0.55%\n",
            "Epoch: 3500 | train_loss: 0.69987, train_acc: 0.57% : test_loss: 0.7114822268486023, test_acc:  0.55%\n",
            "Epoch: 3600 | train_loss: 0.69468, train_acc: 0.57% : test_loss: 0.707625687122345, test_acc:  0.55%\n",
            "Epoch: 3700 | train_loss: 0.69013, train_acc: 0.57% : test_loss: 0.7042173743247986, test_acc:  0.55%\n",
            "Epoch: 3800 | train_loss: 0.68618, train_acc: 0.57% : test_loss: 0.7009122967720032, test_acc:  0.55%\n",
            "Epoch: 3900 | train_loss: 0.68255, train_acc: 0.57% : test_loss: 0.6981346011161804, test_acc:  0.55%\n",
            "Epoch: 4000 | train_loss: 0.67918, train_acc: 0.57% : test_loss: 0.6956971883773804, test_acc:  0.55%\n",
            "Epoch: 4100 | train_loss: 0.67579, train_acc: 0.57% : test_loss: 0.6935844421386719, test_acc:  0.55%\n",
            "Epoch: 4200 | train_loss: 0.67240, train_acc: 0.57% : test_loss: 0.69157874584198, test_acc:  0.55%\n",
            "Epoch: 4300 | train_loss: 0.66910, train_acc: 0.57% : test_loss: 0.6895624399185181, test_acc:  0.55%\n",
            "Epoch: 4400 | train_loss: 0.66585, train_acc: 0.57% : test_loss: 0.6876136064529419, test_acc:  0.55%\n",
            "Epoch: 4500 | train_loss: 0.66270, train_acc: 0.57% : test_loss: 0.685280442237854, test_acc:  0.55%\n",
            "Epoch: 4600 | train_loss: 0.65971, train_acc: 0.57% : test_loss: 0.6827911734580994, test_acc:  0.55%\n",
            "Epoch: 4700 | train_loss: 0.65681, train_acc: 0.57% : test_loss: 0.6798809170722961, test_acc:  0.55%\n",
            "Epoch: 4800 | train_loss: 0.65394, train_acc: 0.58% : test_loss: 0.6769691705703735, test_acc:  0.55%\n",
            "Epoch: 4900 | train_loss: 0.65105, train_acc: 0.58% : test_loss: 0.6740980744361877, test_acc:  0.55%\n",
            "Epoch: 5000 | train_loss: 0.64813, train_acc: 0.59% : test_loss: 0.6711152195930481, test_acc:  0.55%\n",
            "Epoch: 5100 | train_loss: 0.64513, train_acc: 0.59% : test_loss: 0.6680071353912354, test_acc:  0.55%\n",
            "Epoch: 5200 | train_loss: 0.64211, train_acc: 0.60% : test_loss: 0.665006697177887, test_acc:  0.55%\n",
            "Epoch: 5300 | train_loss: 0.63907, train_acc: 0.60% : test_loss: 0.6623006463050842, test_acc:  0.55%\n",
            "Epoch: 5400 | train_loss: 0.63601, train_acc: 0.60% : test_loss: 0.6596466302871704, test_acc:  0.55%\n",
            "Epoch: 5500 | train_loss: 0.63294, train_acc: 0.60% : test_loss: 0.6567100882530212, test_acc:  0.55%\n",
            "Epoch: 5600 | train_loss: 0.62981, train_acc: 0.61% : test_loss: 0.6538230776786804, test_acc:  0.55%\n",
            "Epoch: 5700 | train_loss: 0.62658, train_acc: 0.61% : test_loss: 0.6506307721138, test_acc:  0.55%\n",
            "Epoch: 5800 | train_loss: 0.62323, train_acc: 0.61% : test_loss: 0.6472762227058411, test_acc:  0.55%\n",
            "Epoch: 5900 | train_loss: 0.61971, train_acc: 0.62% : test_loss: 0.6436182856559753, test_acc:  0.55%\n",
            "Epoch: 6000 | train_loss: 0.61594, train_acc: 0.62% : test_loss: 0.6398302912712097, test_acc:  0.55%\n",
            "Epoch: 6100 | train_loss: 0.61206, train_acc: 0.62% : test_loss: 0.6357535719871521, test_acc:  0.55%\n",
            "Epoch: 6200 | train_loss: 0.60803, train_acc: 0.63% : test_loss: 0.6317489147186279, test_acc:  0.55%\n",
            "Epoch: 6300 | train_loss: 0.60388, train_acc: 0.63% : test_loss: 0.6279275417327881, test_acc:  0.55%\n",
            "Epoch: 6400 | train_loss: 0.59960, train_acc: 0.64% : test_loss: 0.624055027961731, test_acc:  0.57%\n",
            "Epoch: 6500 | train_loss: 0.59516, train_acc: 0.64% : test_loss: 0.6200084090232849, test_acc:  0.57%\n",
            "Epoch: 6600 | train_loss: 0.59055, train_acc: 0.65% : test_loss: 0.6157593131065369, test_acc:  0.58%\n",
            "Epoch: 6700 | train_loss: 0.58575, train_acc: 0.65% : test_loss: 0.6113401651382446, test_acc:  0.60%\n",
            "Epoch: 6800 | train_loss: 0.58083, train_acc: 0.65% : test_loss: 0.6069849133491516, test_acc:  0.60%\n",
            "Epoch: 6900 | train_loss: 0.57574, train_acc: 0.66% : test_loss: 0.6022794246673584, test_acc:  0.60%\n",
            "Epoch: 7000 | train_loss: 0.57044, train_acc: 0.67% : test_loss: 0.5973474383354187, test_acc:  0.60%\n",
            "Epoch: 7100 | train_loss: 0.56491, train_acc: 0.68% : test_loss: 0.5920844674110413, test_acc:  0.60%\n",
            "Epoch: 7200 | train_loss: 0.55919, train_acc: 0.68% : test_loss: 0.5865487456321716, test_acc:  0.60%\n",
            "Epoch: 7300 | train_loss: 0.55331, train_acc: 0.68% : test_loss: 0.5807821154594421, test_acc:  0.62%\n",
            "Epoch: 7400 | train_loss: 0.54721, train_acc: 0.68% : test_loss: 0.5747141242027283, test_acc:  0.62%\n",
            "Epoch: 7500 | train_loss: 0.54092, train_acc: 0.69% : test_loss: 0.5684961676597595, test_acc:  0.63%\n",
            "Epoch: 7600 | train_loss: 0.53441, train_acc: 0.69% : test_loss: 0.5619176030158997, test_acc:  0.63%\n",
            "Epoch: 7700 | train_loss: 0.52770, train_acc: 0.70% : test_loss: 0.5550937056541443, test_acc:  0.63%\n",
            "Epoch: 7800 | train_loss: 0.52087, train_acc: 0.70% : test_loss: 0.5480491518974304, test_acc:  0.67%\n",
            "Epoch: 7900 | train_loss: 0.51401, train_acc: 0.70% : test_loss: 0.5409142971038818, test_acc:  0.67%\n",
            "Epoch: 8000 | train_loss: 0.50709, train_acc: 0.70% : test_loss: 0.533794105052948, test_acc:  0.67%\n",
            "Epoch: 8100 | train_loss: 0.50006, train_acc: 0.71% : test_loss: 0.5266509652137756, test_acc:  0.68%\n",
            "Epoch: 8200 | train_loss: 0.49290, train_acc: 0.71% : test_loss: 0.5195566415786743, test_acc:  0.68%\n",
            "Epoch: 8300 | train_loss: 0.48565, train_acc: 0.72% : test_loss: 0.5123711824417114, test_acc:  0.68%\n",
            "Epoch: 8400 | train_loss: 0.47843, train_acc: 0.72% : test_loss: 0.5051605701446533, test_acc:  0.70%\n",
            "Epoch: 8500 | train_loss: 0.47128, train_acc: 0.72% : test_loss: 0.49773454666137695, test_acc:  0.70%\n",
            "Epoch: 8600 | train_loss: 0.46412, train_acc: 0.72% : test_loss: 0.4902276396751404, test_acc:  0.70%\n",
            "Epoch: 8700 | train_loss: 0.45692, train_acc: 0.73% : test_loss: 0.4826204180717468, test_acc:  0.73%\n",
            "Epoch: 8800 | train_loss: 0.44974, train_acc: 0.73% : test_loss: 0.47500714659690857, test_acc:  0.73%\n",
            "Epoch: 8900 | train_loss: 0.44257, train_acc: 0.74% : test_loss: 0.46724367141723633, test_acc:  0.73%\n",
            "Epoch: 9000 | train_loss: 0.43543, train_acc: 0.75% : test_loss: 0.45933762192726135, test_acc:  0.75%\n",
            "Epoch: 9100 | train_loss: 0.42829, train_acc: 0.77% : test_loss: 0.4513581693172455, test_acc:  0.75%\n",
            "Epoch: 9200 | train_loss: 0.42116, train_acc: 0.77% : test_loss: 0.44324833154678345, test_acc:  0.77%\n",
            "Epoch: 9300 | train_loss: 0.41404, train_acc: 0.77% : test_loss: 0.4351055324077606, test_acc:  0.77%\n",
            "Epoch: 9400 | train_loss: 0.40695, train_acc: 0.78% : test_loss: 0.42684444785118103, test_acc:  0.80%\n",
            "Epoch: 9500 | train_loss: 0.39991, train_acc: 0.79% : test_loss: 0.4184674322605133, test_acc:  0.80%\n",
            "Epoch: 9600 | train_loss: 0.39291, train_acc: 0.81% : test_loss: 0.41013118624687195, test_acc:  0.80%\n",
            "Epoch: 9700 | train_loss: 0.38598, train_acc: 0.82% : test_loss: 0.40176817774772644, test_acc:  0.80%\n",
            "Epoch: 9800 | train_loss: 0.37908, train_acc: 0.82% : test_loss: 0.3934059739112854, test_acc:  0.80%\n",
            "Epoch: 9900 | train_loss: 0.37223, train_acc: 0.82% : test_loss: 0.3850259482860565, test_acc:  0.82%\n",
            "Epoch: 10000 | train_loss: 0.36541, train_acc: 0.83% : test_loss: 0.3766945004463196, test_acc:  0.83%\n",
            "Epoch: 10100 | train_loss: 0.35864, train_acc: 0.83% : test_loss: 0.3684644103050232, test_acc:  0.83%\n",
            "Epoch: 10200 | train_loss: 0.35195, train_acc: 0.84% : test_loss: 0.3603437840938568, test_acc:  0.83%\n",
            "Epoch: 10300 | train_loss: 0.34534, train_acc: 0.85% : test_loss: 0.3523610234260559, test_acc:  0.85%\n",
            "Epoch: 10400 | train_loss: 0.33886, train_acc: 0.86% : test_loss: 0.34447434544563293, test_acc:  0.85%\n",
            "Epoch: 10500 | train_loss: 0.33240, train_acc: 0.87% : test_loss: 0.3365950286388397, test_acc:  0.85%\n",
            "Epoch: 10600 | train_loss: 0.32602, train_acc: 0.87% : test_loss: 0.3288348317146301, test_acc:  0.85%\n",
            "Epoch: 10700 | train_loss: 0.31974, train_acc: 0.87% : test_loss: 0.32115650177001953, test_acc:  0.87%\n",
            "Epoch: 10800 | train_loss: 0.31353, train_acc: 0.88% : test_loss: 0.3135582208633423, test_acc:  0.87%\n",
            "Epoch: 10900 | train_loss: 0.30731, train_acc: 0.88% : test_loss: 0.30607160925865173, test_acc:  0.88%\n",
            "Epoch: 11000 | train_loss: 0.30131, train_acc: 0.88% : test_loss: 0.2988928556442261, test_acc:  0.90%\n",
            "Epoch: 11100 | train_loss: 0.29545, train_acc: 0.88% : test_loss: 0.2918887436389923, test_acc:  0.92%\n",
            "Epoch: 11200 | train_loss: 0.28966, train_acc: 0.88% : test_loss: 0.2850126326084137, test_acc:  0.92%\n",
            "Epoch: 11300 | train_loss: 0.28393, train_acc: 0.89% : test_loss: 0.2782912850379944, test_acc:  0.92%\n",
            "Epoch: 11400 | train_loss: 0.27834, train_acc: 0.89% : test_loss: 0.2720443904399872, test_acc:  0.92%\n",
            "Epoch: 11500 | train_loss: 0.27291, train_acc: 0.89% : test_loss: 0.2659696936607361, test_acc:  0.92%\n",
            "Epoch: 11600 | train_loss: 0.26772, train_acc: 0.89% : test_loss: 0.259822279214859, test_acc:  0.92%\n",
            "Epoch: 11700 | train_loss: 0.26266, train_acc: 0.89% : test_loss: 0.2539226710796356, test_acc:  0.92%\n",
            "Epoch: 11800 | train_loss: 0.25772, train_acc: 0.90% : test_loss: 0.24824096262454987, test_acc:  0.92%\n",
            "Epoch: 11900 | train_loss: 0.25293, train_acc: 0.91% : test_loss: 0.24259810149669647, test_acc:  0.93%\n",
            "Epoch: 12000 | train_loss: 0.24828, train_acc: 0.91% : test_loss: 0.23711681365966797, test_acc:  0.93%\n",
            "Epoch: 12100 | train_loss: 0.24376, train_acc: 0.92% : test_loss: 0.23185889422893524, test_acc:  0.93%\n",
            "Epoch: 12200 | train_loss: 0.23936, train_acc: 0.93% : test_loss: 0.22665682435035706, test_acc:  0.93%\n",
            "Epoch: 12300 | train_loss: 0.23507, train_acc: 0.93% : test_loss: 0.2215985357761383, test_acc:  0.93%\n",
            "Epoch: 12400 | train_loss: 0.23090, train_acc: 0.94% : test_loss: 0.21664652228355408, test_acc:  0.93%\n",
            "Epoch: 12500 | train_loss: 0.22683, train_acc: 0.94% : test_loss: 0.21188166737556458, test_acc:  0.93%\n",
            "Epoch: 12600 | train_loss: 0.22287, train_acc: 0.94% : test_loss: 0.20724740624427795, test_acc:  0.95%\n",
            "Epoch: 12700 | train_loss: 0.21900, train_acc: 0.95% : test_loss: 0.20275677740573883, test_acc:  0.95%\n",
            "Epoch: 12800 | train_loss: 0.21523, train_acc: 0.95% : test_loss: 0.19838057458400726, test_acc:  0.95%\n",
            "Epoch: 12900 | train_loss: 0.21155, train_acc: 0.95% : test_loss: 0.19412462413311005, test_acc:  0.95%\n",
            "Epoch: 13000 | train_loss: 0.20797, train_acc: 0.95% : test_loss: 0.19002665579319, test_acc:  0.95%\n",
            "Epoch: 13100 | train_loss: 0.20449, train_acc: 0.95% : test_loss: 0.1860661804676056, test_acc:  0.95%\n",
            "Epoch: 13200 | train_loss: 0.20108, train_acc: 0.95% : test_loss: 0.18220944702625275, test_acc:  0.95%\n",
            "Epoch: 13300 | train_loss: 0.19775, train_acc: 0.95% : test_loss: 0.17844945192337036, test_acc:  0.95%\n",
            "Epoch: 13400 | train_loss: 0.19449, train_acc: 0.95% : test_loss: 0.17483378946781158, test_acc:  0.97%\n",
            "Epoch: 13500 | train_loss: 0.19128, train_acc: 0.95% : test_loss: 0.17140455543994904, test_acc:  0.98%\n",
            "Epoch: 13600 | train_loss: 0.18815, train_acc: 0.95% : test_loss: 0.1679997444152832, test_acc:  0.98%\n",
            "Epoch: 13700 | train_loss: 0.18506, train_acc: 0.95% : test_loss: 0.16457878053188324, test_acc:  0.98%\n",
            "Epoch: 13800 | train_loss: 0.18204, train_acc: 0.95% : test_loss: 0.16120949387550354, test_acc:  0.98%\n",
            "Epoch: 13900 | train_loss: 0.17908, train_acc: 0.95% : test_loss: 0.15788497030735016, test_acc:  0.98%\n",
            "Epoch: 14000 | train_loss: 0.17618, train_acc: 0.95% : test_loss: 0.15464873611927032, test_acc:  0.98%\n",
            "Epoch: 14100 | train_loss: 0.17334, train_acc: 0.95% : test_loss: 0.15145595371723175, test_acc:  0.98%\n",
            "Epoch: 14200 | train_loss: 0.17058, train_acc: 0.96% : test_loss: 0.14833609759807587, test_acc:  0.98%\n",
            "Epoch: 14300 | train_loss: 0.16789, train_acc: 0.96% : test_loss: 0.14530618488788605, test_acc:  0.98%\n",
            "Epoch: 14400 | train_loss: 0.16528, train_acc: 0.96% : test_loss: 0.1423380970954895, test_acc:  0.98%\n",
            "Epoch: 14500 | train_loss: 0.16277, train_acc: 0.96% : test_loss: 0.13944704830646515, test_acc:  0.98%\n",
            "Epoch: 14600 | train_loss: 0.16032, train_acc: 0.96% : test_loss: 0.13669532537460327, test_acc:  0.98%\n",
            "Epoch: 14700 | train_loss: 0.15792, train_acc: 0.96% : test_loss: 0.13401411473751068, test_acc:  0.98%\n",
            "Epoch: 14800 | train_loss: 0.15558, train_acc: 0.96% : test_loss: 0.13138574361801147, test_acc:  0.98%\n",
            "Epoch: 14900 | train_loss: 0.15331, train_acc: 0.96% : test_loss: 0.12882976233959198, test_acc:  0.98%\n",
            "Epoch: 15000 | train_loss: 0.15109, train_acc: 0.96% : test_loss: 0.12634000182151794, test_acc:  0.98%\n",
            "Epoch: 15100 | train_loss: 0.14892, train_acc: 0.96% : test_loss: 0.12392410635948181, test_acc:  0.98%\n",
            "Epoch: 15200 | train_loss: 0.14681, train_acc: 0.96% : test_loss: 0.12158384919166565, test_acc:  0.98%\n",
            "Epoch: 15300 | train_loss: 0.14475, train_acc: 0.96% : test_loss: 0.11922787129878998, test_acc:  0.98%\n",
            "Epoch: 15400 | train_loss: 0.14274, train_acc: 0.96% : test_loss: 0.11695456504821777, test_acc:  0.98%\n",
            "Epoch: 15500 | train_loss: 0.14079, train_acc: 0.96% : test_loss: 0.11475110799074173, test_acc:  0.98%\n",
            "Epoch: 15600 | train_loss: 0.13888, train_acc: 0.96% : test_loss: 0.11262069642543793, test_acc:  0.98%\n",
            "Epoch: 15700 | train_loss: 0.13703, train_acc: 0.96% : test_loss: 0.11055470257997513, test_acc:  0.98%\n",
            "Epoch: 15800 | train_loss: 0.13524, train_acc: 0.96% : test_loss: 0.1085599735379219, test_acc:  0.98%\n",
            "Epoch: 15900 | train_loss: 0.13348, train_acc: 0.96% : test_loss: 0.10666832327842712, test_acc:  0.98%\n",
            "Epoch: 16000 | train_loss: 0.13176, train_acc: 0.96% : test_loss: 0.10482615977525711, test_acc:  0.98%\n",
            "Epoch: 16100 | train_loss: 0.13009, train_acc: 0.96% : test_loss: 0.10296899825334549, test_acc:  0.98%\n",
            "Epoch: 16200 | train_loss: 0.12845, train_acc: 0.96% : test_loss: 0.10115763545036316, test_acc:  0.98%\n",
            "Epoch: 16300 | train_loss: 0.12686, train_acc: 0.96% : test_loss: 0.09939887374639511, test_acc:  0.98%\n",
            "Epoch: 16400 | train_loss: 0.12530, train_acc: 0.96% : test_loss: 0.09770821034908295, test_acc:  0.98%\n",
            "Epoch: 16500 | train_loss: 0.12379, train_acc: 0.96% : test_loss: 0.09609606862068176, test_acc:  0.98%\n",
            "Epoch: 16600 | train_loss: 0.12231, train_acc: 0.96% : test_loss: 0.0945320650935173, test_acc:  1.00%\n",
            "Epoch: 16700 | train_loss: 0.12086, train_acc: 0.96% : test_loss: 0.09301062673330307, test_acc:  1.00%\n",
            "Epoch: 16800 | train_loss: 0.11945, train_acc: 0.96% : test_loss: 0.09153111279010773, test_acc:  1.00%\n",
            "Epoch: 16900 | train_loss: 0.11808, train_acc: 0.96% : test_loss: 0.09009353071451187, test_acc:  1.00%\n",
            "Epoch: 17000 | train_loss: 0.11675, train_acc: 0.96% : test_loss: 0.08869947493076324, test_acc:  1.00%\n",
            "Epoch: 17100 | train_loss: 0.11546, train_acc: 0.96% : test_loss: 0.08731935918331146, test_acc:  1.00%\n",
            "Epoch: 17200 | train_loss: 0.11420, train_acc: 0.96% : test_loss: 0.08598239719867706, test_acc:  1.00%\n",
            "Epoch: 17300 | train_loss: 0.11297, train_acc: 0.96% : test_loss: 0.0846850574016571, test_acc:  1.00%\n",
            "Epoch: 17400 | train_loss: 0.11176, train_acc: 0.97% : test_loss: 0.08343473076820374, test_acc:  1.00%\n",
            "Epoch: 17500 | train_loss: 0.11059, train_acc: 0.97% : test_loss: 0.08221625536680222, test_acc:  1.00%\n",
            "Epoch: 17600 | train_loss: 0.10945, train_acc: 0.97% : test_loss: 0.08102884888648987, test_acc:  1.00%\n",
            "Epoch: 17700 | train_loss: 0.10833, train_acc: 0.97% : test_loss: 0.07986540347337723, test_acc:  1.00%\n",
            "Epoch: 17800 | train_loss: 0.10725, train_acc: 0.97% : test_loss: 0.07872311770915985, test_acc:  1.00%\n",
            "Epoch: 17900 | train_loss: 0.10619, train_acc: 0.97% : test_loss: 0.07758952677249908, test_acc:  1.00%\n",
            "Epoch: 18000 | train_loss: 0.10516, train_acc: 0.97% : test_loss: 0.07650510221719742, test_acc:  1.00%\n",
            "Epoch: 18100 | train_loss: 0.10415, train_acc: 0.97% : test_loss: 0.0754580870270729, test_acc:  1.00%\n",
            "Epoch: 18200 | train_loss: 0.10317, train_acc: 0.97% : test_loss: 0.07444393634796143, test_acc:  1.00%\n",
            "Epoch: 18300 | train_loss: 0.10221, train_acc: 0.97% : test_loss: 0.07345493882894516, test_acc:  1.00%\n",
            "Epoch: 18400 | train_loss: 0.10128, train_acc: 0.97% : test_loss: 0.0724693313241005, test_acc:  1.00%\n",
            "Epoch: 18500 | train_loss: 0.10036, train_acc: 0.97% : test_loss: 0.07152954488992691, test_acc:  1.00%\n",
            "Epoch: 18600 | train_loss: 0.09946, train_acc: 0.97% : test_loss: 0.07063879072666168, test_acc:  1.00%\n",
            "Epoch: 18700 | train_loss: 0.09857, train_acc: 0.97% : test_loss: 0.06975332647562027, test_acc:  1.00%\n",
            "Epoch: 18800 | train_loss: 0.09770, train_acc: 0.97% : test_loss: 0.06887538731098175, test_acc:  1.00%\n",
            "Epoch: 18900 | train_loss: 0.09685, train_acc: 0.97% : test_loss: 0.06802035868167877, test_acc:  1.00%\n",
            "Epoch: 19000 | train_loss: 0.09602, train_acc: 0.97% : test_loss: 0.0671868696808815, test_acc:  1.00%\n",
            "Epoch: 19100 | train_loss: 0.09521, train_acc: 0.97% : test_loss: 0.06636466830968857, test_acc:  1.00%\n",
            "Epoch: 19200 | train_loss: 0.09441, train_acc: 0.97% : test_loss: 0.06556136161088943, test_acc:  1.00%\n",
            "Epoch: 19300 | train_loss: 0.09363, train_acc: 0.97% : test_loss: 0.06477818638086319, test_acc:  1.00%\n",
            "Epoch: 19400 | train_loss: 0.09287, train_acc: 0.97% : test_loss: 0.06401322036981583, test_acc:  1.00%\n",
            "Epoch: 19500 | train_loss: 0.09212, train_acc: 0.98% : test_loss: 0.06325195729732513, test_acc:  1.00%\n",
            "Epoch: 19600 | train_loss: 0.09140, train_acc: 0.98% : test_loss: 0.06245795637369156, test_acc:  1.00%\n",
            "Epoch: 19700 | train_loss: 0.09069, train_acc: 0.98% : test_loss: 0.06169227883219719, test_acc:  1.00%\n",
            "Epoch: 19800 | train_loss: 0.09000, train_acc: 0.98% : test_loss: 0.06095912307500839, test_acc:  1.00%\n",
            "Epoch: 19900 | train_loss: 0.08932, train_acc: 0.98% : test_loss: 0.06023304909467697, test_acc:  1.00%\n"
          ]
        }
      ]
    },
    {
      "cell_type": "code",
      "source": [
        "# Plot decision boundaries for training and test sets\n",
        "# decision boundary plot and see how it's working\n",
        "import requests\n",
        "from pathlib import Path \n",
        "\n",
        "# Download helper functions from Learn PyTorch repo (if not already downloaded)\n",
        "if Path(\"helper_functions.py\").is_file():\n",
        "  print(\"helper_functions.py already exists, skipping download\")\n",
        "else:\n",
        "  print(\"Downloading helper_functions.py\")\n",
        "  request = requests.get(\"https://raw.githubusercontent.com/mrdbourke/pytorch-deep-learning/main/helper_functions.py\")\n",
        "  with open(\"helper_functions.py\", \"wb\") as f:\n",
        "    f.write(request.content)\n",
        "\n",
        "from helper_functions import plot_predictions, plot_decision_boundary"
      ],
      "metadata": {
        "id": "JrwVRbaE0keT",
        "outputId": "059a590e-b3be-4a4b-fef3-5a988a7c8b7b",
        "colab": {
          "base_uri": "https://localhost:8080/"
        }
      },
      "execution_count": 10,
      "outputs": [
        {
          "output_type": "stream",
          "name": "stdout",
          "text": [
            "Downloading helper_functions.py\n"
          ]
        }
      ]
    },
    {
      "cell_type": "code",
      "source": [
        "plt.figure(figsize=(12, 6))\n",
        "plt.subplot(1, 2, 1)\n",
        "plt.title(\"Train\")\n",
        "plot_decision_boundary(Model, X_train, y_train)\n",
        "plt.subplot(1, 2, 2)\n",
        "plt.title(\"Test\")\n",
        "plot_decision_boundary(Model, X_test, y_test)"
      ],
      "metadata": {
        "id": "LR4ed2g-SwKx",
        "outputId": "6e43fc9c-0125-465e-cff5-f012bbba54ee",
        "colab": {
          "base_uri": "https://localhost:8080/",
          "height": 390
        }
      },
      "execution_count": 12,
      "outputs": [
        {
          "output_type": "display_data",
          "data": {
            "text/plain": [
              "<Figure size 864x432 with 2 Axes>"
            ],
            "image/png": "[encoded data removed]"
          },
          "metadata": {
            "needs_background": "light"
          }
        }
      ]
    },
    {
      "cell_type": "code",
      "source": [],
      "metadata": {
        "id": "75gnHnEValck"
      },
      "execution_count": null,
      "outputs": []
    }
  ]
}